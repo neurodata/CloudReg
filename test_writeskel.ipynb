{
 "cells": [
  {
   "cell_type": "code",
   "execution_count": 20,
   "metadata": {},
   "outputs": [
    {
     "name": "stderr",
     "output_type": "stream",
     "text": [
      "Uploading: 100%|██████████| 8/8 [00:00<00:00, 64.11it/s]"
     ]
    },
    {
     "name": "stdout",
     "output_type": "stream",
     "text": [
      "Original attributes: [{'id': 'radius', 'data_type': 'float32', 'num_components': 1}, {'id': 'vertex_types', 'data_type': 'uint8', 'num_components': 1}]\n",
      "After removing: [{'id': 'radius', 'data_type': 'float32', 'num_components': 1}]\n",
      "After uploading: [{'id': 'radius', 'data_type': 'float32', 'num_components': 1}, {'id': 'vertex_types', 'data_type': 'uint8', 'num_components': 1}]\n",
      "After uploading: Skeleton(segid=1, vertices=(shape=2, float32), edges=(shape=1, uint32), radius=(2, float32), vertex_types=(0, uint8), space='physical' transform=[[1.0, 0.0, 0.0, 0.0], [0.0, 1.0, 0.0, 0.0], [0.0, 0.0, 1.0, 0.0]])\n"
     ]
    },
    {
     "name": "stderr",
     "output_type": "stream",
     "text": [
      "\n"
     ]
    }
   ],
   "source": [
    "from cloudvolume import CloudVolume, Skeleton\n",
    "import numpy as np\n",
    "\n",
    "path = \"file:///cis/home/tathey/projects/mouselight/axon_mapping/low_res/2018-12-01/precomputed/axons_test\"\n",
    "path = \"precomputed://file:///Users/thomasathey/Documents/mimlab/mouselight/axon_mapping/upload_skel/seg\"\n",
    "\n",
    "info = CloudVolume.create_new_info(\n",
    "    num_channels    = 1,\n",
    "    layer_type      = 'segmentation',\n",
    "    data_type       = 'uint64', # Channel images might be 'uint8'\n",
    "    # raw, png, jpeg, compressed_segmentation, fpzip, kempressed, compresso\n",
    "    encoding        = 'raw', \n",
    "    resolution      = [1, 1, 1], # Voxel scaling, units are in nanometers\n",
    "    voxel_offset    = [0, 0, 0], # x,y,z offset in voxels from the origin\n",
    "    skeletons = \"skeletons\",\n",
    "    # Pick a convenient size for your underlying chunk representation\n",
    "    # Powers of two are recommended, doesn't need to cover image exactly\n",
    "    chunk_size      = [ 5, 5, 5 ], # units are voxels\n",
    "    volume_size     = [ 10, 10, 10 ], # e.g. a cubic millimeter dataset\n",
    ")\n",
    "vol = CloudVolume(path, info=info, compress=False)\n",
    "vol.commit_info()\n",
    "\n",
    "seg = np.zeros(vol.volume_size, dtype=vol.data_type)\n",
    "seg[5,5,:] = 1\n",
    "vol[:,:,:] = seg\n",
    "\n",
    "skel = Skeleton(segid = 1, vertices=[[5,5,0], [5,5,9]], edges=[[0,1]])\n",
    "print(f\"Original attributes: {skel.extra_attributes}\")\n",
    "skeletons = [skel]\n",
    "for skel in skeletons:\n",
    "    skel.extra_attributes = [ attr for attr in skel.extra_attributes if attr['data_type'] == 'float32' ]\n",
    "print(f\"After removing: {skel.extra_attributes}\")\n",
    "vol.skeleton.upload(skel)\n",
    "print(f\"After uploading: {vol.skeleton.get(1).extra_attributes}\")\n",
    "print(f\"After uploading: {vol.skeleton.get(1)}\")\n",
    "vol.skeleton.meta.commit_info()"
   ]
  },
  {
   "cell_type": "markdown",
   "metadata": {},
   "source": [
    "## remove vertex_type attribute from skeleton info file"
   ]
  },
  {
   "cell_type": "code",
   "execution_count": 18,
   "metadata": {},
   "outputs": [
    {
     "name": "stdout",
     "output_type": "stream",
     "text": [
      "Neuroglancer server listening to http://localhost:1337\n"
     ]
    },
    {
     "name": "stderr",
     "output_type": "stream",
     "text": [
      "----------------------------------------\n",
      "Exception happened during processing of request from ('127.0.0.1', 50825)\n",
      "Traceback (most recent call last):\n",
      "  File \"/usr/local/opt/python@3.8/Frameworks/Python.framework/Versions/3.8/lib/python3.8/socketserver.py\", line 316, in _handle_request_noblock\n",
      "    self.process_request(request, client_address)\n",
      "  File \"/usr/local/opt/python@3.8/Frameworks/Python.framework/Versions/3.8/lib/python3.8/socketserver.py\", line 347, in process_request\n",
      "    self.finish_request(request, client_address)\n",
      "  File \"/usr/local/opt/python@3.8/Frameworks/Python.framework/Versions/3.8/lib/python3.8/socketserver.py\", line 360, in finish_request\n",
      "    self.RequestHandlerClass(request, client_address, self)\n",
      "  File \"/Users/thomasathey/Documents/mimlab/mouselight/docs_env/lib/python3.8/site-packages/cloudvolume/server.py\", line 24, in handler\n",
      "    return ViewerServerHandler(cloudpath, *args)\n",
      "  File \"/Users/thomasathey/Documents/mimlab/mouselight/docs_env/lib/python3.8/site-packages/cloudvolume/server.py\", line 43, in __init__\n",
      "    BaseHTTPRequestHandler.__init__(self, *args)\n",
      "  File \"/usr/local/opt/python@3.8/Frameworks/Python.framework/Versions/3.8/lib/python3.8/socketserver.py\", line 747, in __init__\n",
      "    self.handle()\n",
      "  File \"/usr/local/opt/python@3.8/Frameworks/Python.framework/Versions/3.8/lib/python3.8/http/server.py\", line 427, in handle\n",
      "    self.handle_one_request()\n",
      "  File \"/usr/local/opt/python@3.8/Frameworks/Python.framework/Versions/3.8/lib/python3.8/http/server.py\", line 415, in handle_one_request\n",
      "    method()\n",
      "  File \"/Users/thomasathey/Documents/mimlab/mouselight/docs_env/lib/python3.8/site-packages/cloudvolume/server.py\", line 68, in do_GET\n",
      "    data = CloudFiles(self.cloudpath).get(query)\n",
      "  File \"/Users/thomasathey/Documents/mimlab/mouselight/docs_env/lib/python3.8/site-packages/cloudfiles/cloudfiles.py\", line 85, in inner_decor\n",
      "    return fn(*args, **kwargs)\n",
      "  File \"/Users/thomasathey/Documents/mimlab/mouselight/docs_env/lib/python3.8/site-packages/cloudfiles/cloudfiles.py\", line 376, in get\n",
      "    ret = download(first(paths))\n",
      "  File \"/Users/thomasathey/Documents/mimlab/mouselight/docs_env/lib/python3.8/site-packages/cloudfiles/cloudfiles.py\", line 339, in download\n",
      "    path, start, end = path_to_byte_range(path)\n",
      "  File \"/Users/thomasathey/Documents/mimlab/mouselight/docs_env/lib/python3.8/site-packages/cloudfiles/cloudfiles.py\", line 169, in path_to_byte_range\n",
      "    return (path['path'], path['start'], path['end'])\n",
      "KeyError: 'start'\n",
      "----------------------------------------\n"
     ]
    },
    {
     "name": "stdout",
     "output_type": "stream",
     "text": [
      "\n",
      "Continuing program execution...\n"
     ]
    }
   ],
   "source": [
    "vol.viewer()"
   ]
  },
  {
   "cell_type": "code",
   "execution_count": 13,
   "metadata": {},
   "outputs": [
    {
     "ename": "AttributeError",
     "evalue": "'CloudVolumePrecomputed' object has no attribute 'skeletons'",
     "output_type": "error",
     "traceback": [
      "\u001b[0;31m---------------------------------------------------------------------------\u001b[0m",
      "\u001b[0;31mAttributeError\u001b[0m                            Traceback (most recent call last)",
      "\u001b[0;32m/var/folders/fq/9t66hqz51y5ddnygddgjtsmc0000gn/T/ipykernel_2686/1348949450.py\u001b[0m in \u001b[0;36m<module>\u001b[0;34m\u001b[0m\n\u001b[1;32m      1\u001b[0m \u001b[0;32mfrom\u001b[0m \u001b[0mcloudvolume\u001b[0m \u001b[0;32mimport\u001b[0m \u001b[0mCloudVolume\u001b[0m\u001b[0;34m,\u001b[0m \u001b[0mSkeleton\u001b[0m\u001b[0;34m\u001b[0m\u001b[0;34m\u001b[0m\u001b[0m\n\u001b[1;32m      2\u001b[0m \u001b[0mvol\u001b[0m \u001b[0;34m=\u001b[0m \u001b[0mCloudVolume\u001b[0m\u001b[0;34m(\u001b[0m\u001b[0mpath\u001b[0m\u001b[0;34m)\u001b[0m\u001b[0;34m\u001b[0m\u001b[0;34m\u001b[0m\u001b[0m\n\u001b[0;32m----> 3\u001b[0;31m \u001b[0mvol\u001b[0m\u001b[0;34m.\u001b[0m\u001b[0mskeletons\u001b[0m\u001b[0;34m.\u001b[0m\u001b[0mget\u001b[0m\u001b[0;34m(\u001b[0m\u001b[0;36m1\u001b[0m\u001b[0;34m)\u001b[0m\u001b[0;34m\u001b[0m\u001b[0;34m\u001b[0m\u001b[0m\n\u001b[0m",
      "\u001b[0;31mAttributeError\u001b[0m: 'CloudVolumePrecomputed' object has no attribute 'skeletons'"
     ]
    }
   ],
   "source": [
    "from cloudvolume import CloudVolume, Skeleton\n",
    "vol = CloudVolume(path)\n",
    "vol.skeleton.get(1)"
   ]
  },
  {
   "cell_type": "code",
   "execution_count": null,
   "metadata": {},
   "outputs": [],
   "source": [
    "path2 = \"file:///cis/home/tathey/projects/mouselight/axon_mapping/low_res/2018-12-01/precomputed/axons\"\n",
    "vol2 = CloudVolume(path2)\n",
    "vol2.viewer()"
   ]
  },
  {
   "cell_type": "code",
   "execution_count": null,
   "metadata": {},
   "outputs": [],
   "source": []
  }
 ],
 "metadata": {
  "interpreter": {
   "hash": "5dc00d68ff54f8375e99934614da4863299fb9e10af4294c095b7f517546ff26"
  },
  "kernelspec": {
   "display_name": "Python 3.8.10 ('docs_env': venv)",
   "language": "python",
   "name": "python3"
  },
  "language_info": {
   "codemirror_mode": {
    "name": "ipython",
    "version": 3
   },
   "file_extension": ".py",
   "mimetype": "text/x-python",
   "name": "python",
   "nbconvert_exporter": "python",
   "pygments_lexer": "ipython3",
   "version": "3.8.10"
  },
  "orig_nbformat": 4
 },
 "nbformat": 4,
 "nbformat_minor": 2
}
