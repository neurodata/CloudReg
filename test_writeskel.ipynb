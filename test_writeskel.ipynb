{
 "cells": [
  {
   "cell_type": "code",
   "execution_count": 4,
   "metadata": {},
   "outputs": [
    {
     "name": "stderr",
     "output_type": "stream",
     "text": [
      "Uploading: 100%|██████████| 8/8 [00:00<00:00, 64.06it/s]\n"
     ]
    }
   ],
   "source": [
    "from cloudvolume import CloudVolume, Skeleton\n",
    "import numpy as np\n",
    "\n",
    "path = \"file:///cis/home/tathey/projects/mouselight/axon_mapping/low_res/2018-12-01/precomputed/axons_test\"\n",
    "\n",
    "info = CloudVolume.create_new_info(\n",
    "    num_channels    = 1,\n",
    "    layer_type      = 'segmentation',\n",
    "    data_type       = 'uint64', # Channel images might be 'uint8'\n",
    "    # raw, png, jpeg, compressed_segmentation, fpzip, kempressed, compresso\n",
    "    encoding        = 'raw', \n",
    "    resolution      = [1, 1, 1], # Voxel scaling, units are in nanometers\n",
    "    voxel_offset    = [0, 0, 0], # x,y,z offset in voxels from the origin\n",
    "    skeletons = \"skeletons\",\n",
    "    # Pick a convenient size for your underlying chunk representation\n",
    "    # Powers of two are recommended, doesn't need to cover image exactly\n",
    "    chunk_size      = [ 5, 5, 5 ], # units are voxels\n",
    "    volume_size     = [ 10, 10, 10 ], # e.g. a cubic millimeter dataset\n",
    ")\n",
    "vol = CloudVolume(path, info=info, compress=False)\n",
    "vol.commit_info()\n",
    "vol.skeleton.meta.commit_info()\n",
    "\n",
    "seg = np.zeros(vol.volume_size, dtype=vol.data_type)\n",
    "seg[5,5,:] = 1\n",
    "\n",
    "vol[:,:,:] = seg\n",
    "skel = Skeleton(segid = 1, vertices=[[5,5,0], [5,5,9]], edges=[[0,1]])\n",
    "vol.skeleton.upload(skel)"
   ]
  },
  {
   "cell_type": "code",
   "execution_count": 5,
   "metadata": {},
   "outputs": [
    {
     "name": "stdout",
     "output_type": "stream",
     "text": [
      "Neuroglancer server listening to http://localhost:1337\n"
     ]
    },
    {
     "name": "stderr",
     "output_type": "stream",
     "text": [
      "127.0.0.1 - - [11/May/2022 15:50:18] \"GET /info HTTP/1.1\" 200 -\n",
      "127.0.0.1 - - [11/May/2022 15:50:18] \"GET /skeletons/info HTTP/1.1\" 200 -\n",
      "127.0.0.1 - - [11/May/2022 15:50:20] \"GET /1_1_1/5-10_5-10_5-10 HTTP/1.1\" 200 -\n",
      "127.0.0.1 - - [11/May/2022 15:50:20] \"GET /1_1_1/0-5_5-10_5-10 HTTP/1.1\" 200 -\n",
      "127.0.0.1 - - [11/May/2022 15:50:20] \"GET /1_1_1/5-10_5-10_0-5 HTTP/1.1\" 200 -\n",
      "127.0.0.1 - - [11/May/2022 15:50:20] \"GET /1_1_1/5-10_0-5_5-10 HTTP/1.1\" 200 -\n",
      "127.0.0.1 - - [11/May/2022 15:50:20] \"GET /1_1_1/0-5_5-10_0-5 HTTP/1.1\" 200 -\n",
      "127.0.0.1 - - [11/May/2022 15:50:20] \"GET /1_1_1/0-5_0-5_5-10 HTTP/1.1\" 200 -\n",
      "127.0.0.1 - - [11/May/2022 15:50:20] \"GET /1_1_1/5-10_0-5_0-5 HTTP/1.1\" 200 -\n",
      "127.0.0.1 - - [11/May/2022 15:50:22] \"GET /1_1_1/0-5_0-5_0-5 HTTP/1.1\" 200 -\n"
     ]
    },
    {
     "name": "stdout",
     "output_type": "stream",
     "text": [
      "\n",
      "Continuing program execution...\n"
     ]
    }
   ],
   "source": [
    "vol.viewer()"
   ]
  },
  {
   "cell_type": "code",
   "execution_count": 3,
   "metadata": {},
   "outputs": [
    {
     "data": {
      "text/plain": [
       "array([[5., 5., 0.],\n",
       "       [5., 5., 9.]], dtype=float32)"
      ]
     },
     "execution_count": 3,
     "metadata": {},
     "output_type": "execute_result"
    }
   ],
   "source": [
    "from cloudvolume import CloudVolume, Skeleton\n",
    "path = \"file:///cis/home/tathey/projects/mouselight/axon_mapping/low_res/2018-12-01/precomputed/axons_test\"\n",
    "vol = CloudVolume(path)\n",
    "vol.skeleton.get(1).vertices"
   ]
  },
  {
   "cell_type": "code",
   "execution_count": null,
   "metadata": {},
   "outputs": [],
   "source": [
    "path2 = \"file:///cis/home/tathey/projects/mouselight/axon_mapping/low_res/2018-12-01/precomputed/axons\"\n",
    "vol2 = CloudVolume(path2)\n",
    "vol2.viewer()"
   ]
  },
  {
   "cell_type": "code",
   "execution_count": null,
   "metadata": {},
   "outputs": [],
   "source": []
  }
 ],
 "metadata": {
  "interpreter": {
   "hash": "ba86addb6a32c5abc03a083708b829659889f63eadd4a7517b86dcd2bdbf43cf"
  },
  "kernelspec": {
   "display_name": "vevn_38-kernel",
   "language": "python",
   "name": "vevn_38-kernel"
  },
  "language_info": {
   "codemirror_mode": {
    "name": "ipython",
    "version": 3
   },
   "file_extension": ".py",
   "mimetype": "text/x-python",
   "name": "python",
   "nbconvert_exporter": "python",
   "pygments_lexer": "ipython3",
   "version": "3.8.0"
  },
  "orig_nbformat": 4
 },
 "nbformat": 4,
 "nbformat_minor": 2
}
