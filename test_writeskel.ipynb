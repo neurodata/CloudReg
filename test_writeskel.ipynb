{
 "cells": [
  {
   "cell_type": "code",
   "execution_count": 1,
   "metadata": {},
   "outputs": [
    {
     "name": "stderr",
     "output_type": "stream",
     "text": [
      "Uploading: 100%|██████████| 8/8 [00:00<00:00, 56.53it/s]"
     ]
    },
    {
     "name": "stdout",
     "output_type": "stream",
     "text": [
      "Original attributes: [{'id': 'radius', 'data_type': 'float32', 'num_components': 1}, {'id': 'vertex_types', 'data_type': 'uint8', 'num_components': 1}]\n",
      "After removing: [{'id': 'radius', 'data_type': 'float32', 'num_components': 1}]\n",
      "After uploading: [{'id': 'radius', 'data_type': 'float32', 'num_components': 1}, {'id': 'vertex_types', 'data_type': 'uint8', 'num_components': 1}]\n",
      "After uploading: Skeleton(segid=1, vertices=(shape=2, float32), edges=(shape=1, uint32), radius=(2, float32), vertex_types=(0, uint8), space='physical' transform=[[1.0, 0.0, 0.0, 0.0], [0.0, 1.0, 0.0, 0.0], [0.0, 0.0, 1.0, 0.0]])\n"
     ]
    },
    {
     "name": "stderr",
     "output_type": "stream",
     "text": [
      "\n"
     ]
    }
   ],
   "source": [
    "from cloudvolume import CloudVolume, Skeleton\n",
    "import numpy as np\n",
    "\n",
    "path = \"file:///cis/home/tathey/projects/mouselight/axon_mapping/low_res/2018-12-01/precomputed/axons_test\"\n",
    "#path = \"precomputed://file:///Users/thomasathey/Documents/mimlab/mouselight/axon_mapping/upload_skel/seg\"\n",
    "\n",
    "info = CloudVolume.create_new_info(\n",
    "    num_channels    = 1,\n",
    "    layer_type      = 'segmentation',\n",
    "    data_type       = 'uint64', # Channel images might be 'uint8'\n",
    "    # raw, png, jpeg, compressed_segmentation, fpzip, kempressed, compresso\n",
    "    encoding        = 'raw', \n",
    "    resolution      = [1, 1, 1], # Voxel scaling, units are in nanometers\n",
    "    voxel_offset    = [0, 0, 0], # x,y,z offset in voxels from the origin\n",
    "    skeletons = \"skeletons\",\n",
    "    # Pick a convenient size for your underlying chunk representation\n",
    "    # Powers of two are recommended, doesn't need to cover image exactly\n",
    "    chunk_size      = [ 5, 5, 5 ], # units are voxels\n",
    "    volume_size     = [ 10, 10, 10 ], # e.g. a cubic millimeter dataset\n",
    ")\n",
    "vol = CloudVolume(path, info=info, compress=False)\n",
    "vol.commit_info()\n",
    "\n",
    "seg = np.zeros(vol.volume_size, dtype=vol.data_type)\n",
    "seg[5,5,:] = 1\n",
    "vol[:,:,:] = seg\n",
    "\n",
    "skel = Skeleton(segid = 1, vertices=[[5,5,0], [5,5,9]], edges=[[0,1]])\n",
    "print(f\"Original attributes: {skel.extra_attributes}\")\n",
    "skeletons = [skel]\n",
    "for skel in skeletons:\n",
    "    skel.extra_attributes = [ attr for attr in skel.extra_attributes if attr['data_type'] == 'float32' ]\n",
    "print(f\"After removing: {skel.extra_attributes}\")\n",
    "vol.skeleton.upload(skel)\n",
    "print(f\"After uploading: {vol.skeleton.get(1).extra_attributes}\")\n",
    "print(f\"After uploading: {vol.skeleton.get(1)}\")\n",
    "vol.skeleton.meta.commit_info()"
   ]
  },
  {
   "cell_type": "markdown",
   "metadata": {},
   "source": [
    "## remove vertex_type attribute from skeleton info file"
   ]
  },
  {
   "cell_type": "code",
   "execution_count": 3,
   "metadata": {},
   "outputs": [
    {
     "name": "stdout",
     "output_type": "stream",
     "text": [
      "Neuroglancer server listening to http://localhost:1337\n"
     ]
    },
    {
     "name": "stderr",
     "output_type": "stream",
     "text": [
      "127.0.0.1 - - [12/May/2022 13:12:40] \"GET /info HTTP/1.1\" 200 -\n",
      "127.0.0.1 - - [12/May/2022 13:12:40] \"GET /skeletons/info HTTP/1.1\" 200 -\n",
      "127.0.0.1 - - [12/May/2022 13:12:40] \"GET /skeletons/1 HTTP/1.1\" 200 -\n",
      "127.0.0.1 - - [12/May/2022 13:12:55] \"GET /info HTTP/1.1\" 200 -\n",
      "127.0.0.1 - - [12/May/2022 13:12:55] \"GET /skeletons/info HTTP/1.1\" 200 -\n",
      "127.0.0.1 - - [12/May/2022 13:13:05] \"GET /info HTTP/1.1\" 200 -\n",
      "127.0.0.1 - - [12/May/2022 13:13:05] \"GET /skeletons/info HTTP/1.1\" 200 -\n",
      "127.0.0.1 - - [12/May/2022 13:13:14] \"GET /1_1_1/0-5_5-10_5-10 HTTP/1.1\" 200 -\n",
      "127.0.0.1 - - [12/May/2022 13:13:14] \"GET /1_1_1/0-5_5-10_0-5 HTTP/1.1\" 200 -\n",
      "127.0.0.1 - - [12/May/2022 13:13:14] \"GET /1_1_1/0-5_0-5_5-10 HTTP/1.1\" 200 -\n",
      "127.0.0.1 - - [12/May/2022 13:13:14] \"GET /1_1_1/0-5_0-5_0-5 HTTP/1.1\" 200 -\n",
      "127.0.0.1 - - [12/May/2022 13:13:14] \"GET /1_1_1/5-10_0-5_0-5 HTTP/1.1\" 200 -\n",
      "127.0.0.1 - - [12/May/2022 13:13:14] \"GET /1_1_1/5-10_0-5_5-10 HTTP/1.1\" 200 -\n",
      "127.0.0.1 - - [12/May/2022 13:13:14] \"GET /1_1_1/5-10_5-10_5-10 HTTP/1.1\" 200 -\n",
      "127.0.0.1 - - [12/May/2022 13:13:14] \"GET /1_1_1/5-10_5-10_0-5 HTTP/1.1\" 200 -\n",
      "127.0.0.1 - - [12/May/2022 13:13:26] \"GET /info HTTP/1.1\" 200 -\n",
      "127.0.0.1 - - [12/May/2022 13:13:26] \"GET /skeletons/info HTTP/1.1\" 200 -\n",
      "127.0.0.1 - - [12/May/2022 13:13:27] \"GET /1_1_1/0-5_0-5_0-5 HTTP/1.1\" 200 -\n",
      "127.0.0.1 - - [12/May/2022 13:13:27] \"GET /1_1_1/5-10_0-5_0-5 HTTP/1.1\" 200 -\n",
      "127.0.0.1 - - [12/May/2022 13:13:27] \"GET /1_1_1/0-5_5-10_0-5 HTTP/1.1\" 200 -\n",
      "127.0.0.1 - - [12/May/2022 13:13:27] \"GET /1_1_1/5-10_5-10_0-5 HTTP/1.1\" 200 -\n",
      "127.0.0.1 - - [12/May/2022 13:13:30] \"GET /1_1_1/0-5_0-5_5-10 HTTP/1.1\" 200 -\n",
      "127.0.0.1 - - [12/May/2022 13:13:30] \"GET /1_1_1/0-5_5-10_5-10 HTTP/1.1\" 200 -\n",
      "127.0.0.1 - - [12/May/2022 13:13:31] \"GET /1_1_1/5-10_5-10_5-10 HTTP/1.1\" 200 -\n",
      "127.0.0.1 - - [12/May/2022 13:13:53] \"GET /skeletons/1 HTTP/1.1\" 200 -\n",
      "127.0.0.1 - - [12/May/2022 13:13:53] \"GET /1_1_1/5-10_0-5_5-10 HTTP/1.1\" 200 -\n"
     ]
    },
    {
     "name": "stdout",
     "output_type": "stream",
     "text": [
      "\n",
      "Continuing program execution...\n"
     ]
    }
   ],
   "source": [
    "vol.viewer()"
   ]
  },
  {
   "cell_type": "code",
   "execution_count": 13,
   "metadata": {},
   "outputs": [
    {
     "ename": "AttributeError",
     "evalue": "'CloudVolumePrecomputed' object has no attribute 'skeletons'",
     "output_type": "error",
     "traceback": [
      "\u001b[0;31m---------------------------------------------------------------------------\u001b[0m",
      "\u001b[0;31mAttributeError\u001b[0m                            Traceback (most recent call last)",
      "\u001b[0;32m/var/folders/fq/9t66hqz51y5ddnygddgjtsmc0000gn/T/ipykernel_2686/1348949450.py\u001b[0m in \u001b[0;36m<module>\u001b[0;34m\u001b[0m\n\u001b[1;32m      1\u001b[0m \u001b[0;32mfrom\u001b[0m \u001b[0mcloudvolume\u001b[0m \u001b[0;32mimport\u001b[0m \u001b[0mCloudVolume\u001b[0m\u001b[0;34m,\u001b[0m \u001b[0mSkeleton\u001b[0m\u001b[0;34m\u001b[0m\u001b[0;34m\u001b[0m\u001b[0m\n\u001b[1;32m      2\u001b[0m \u001b[0mvol\u001b[0m \u001b[0;34m=\u001b[0m \u001b[0mCloudVolume\u001b[0m\u001b[0;34m(\u001b[0m\u001b[0mpath\u001b[0m\u001b[0;34m)\u001b[0m\u001b[0;34m\u001b[0m\u001b[0;34m\u001b[0m\u001b[0m\n\u001b[0;32m----> 3\u001b[0;31m \u001b[0mvol\u001b[0m\u001b[0;34m.\u001b[0m\u001b[0mskeletons\u001b[0m\u001b[0;34m.\u001b[0m\u001b[0mget\u001b[0m\u001b[0;34m(\u001b[0m\u001b[0;36m1\u001b[0m\u001b[0;34m)\u001b[0m\u001b[0;34m\u001b[0m\u001b[0;34m\u001b[0m\u001b[0m\n\u001b[0m",
      "\u001b[0;31mAttributeError\u001b[0m: 'CloudVolumePrecomputed' object has no attribute 'skeletons'"
     ]
    }
   ],
   "source": [
    "from cloudvolume import CloudVolume, Skeleton\n",
    "vol = CloudVolume(path)\n",
    "vol.skeleton.get(1)"
   ]
  },
  {
   "cell_type": "code",
   "execution_count": null,
   "metadata": {},
   "outputs": [],
   "source": [
    "path2 = \"file:///cis/home/tathey/projects/mouselight/axon_mapping/low_res/2018-12-01/precomputed/axons\"\n",
    "vol2 = CloudVolume(path2)\n",
    "vol2.viewer()"
   ]
  },
  {
   "cell_type": "code",
   "execution_count": null,
   "metadata": {},
   "outputs": [],
   "source": []
  }
 ],
 "metadata": {
  "interpreter": {
   "hash": "5dc00d68ff54f8375e99934614da4863299fb9e10af4294c095b7f517546ff26"
  },
  "kernelspec": {
   "display_name": "vevn_38-kernel",
   "language": "python",
   "name": "vevn_38-kernel"
  },
  "language_info": {
   "codemirror_mode": {
    "name": "ipython",
    "version": 3
   },
   "file_extension": ".py",
   "mimetype": "text/x-python",
   "name": "python",
   "nbconvert_exporter": "python",
   "pygments_lexer": "ipython3",
   "version": "3.8.0"
  },
  "orig_nbformat": 4
 },
 "nbformat": 4,
 "nbformat_minor": 2
}
