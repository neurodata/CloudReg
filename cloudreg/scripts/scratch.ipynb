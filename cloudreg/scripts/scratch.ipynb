{
 "cells": [
  {
   "cell_type": "code",
   "execution_count": 1,
   "metadata": {},
   "outputs": [],
   "source": [
    "from cloudvolume import CloudVolume\n"
   ]
  },
  {
   "cell_type": "code",
   "execution_count": 9,
   "metadata": {},
   "outputs": [
    {
     "name": "stdout",
     "output_type": "stream",
     "text": [
      "[14640. 14640. 16000.]\n",
      "(704, 921, 413, 1)\n",
      "3\n"
     ]
    }
   ],
   "source": [
    "for mip in range(5):\n",
    "    vol = CloudVolume(\"precomputed://https://dlab-colm.neurodata.io/2022_11_03/8589/axon_mask\", mip=mip)\n",
    "    if (vol.resolution > 10000).any():\n",
    "        print(vol.resolution)\n",
    "        print(vol.shape)\n",
    "        print(mip)\n",
    "        break"
   ]
  },
  {
   "cell_type": "code",
   "execution_count": 4,
   "metadata": {},
   "outputs": [
    {
     "data": {
      "text/plain": [
       "Vec(1830.0,1830.0,2000.0, dtype=float64)"
      ]
     },
     "execution_count": 4,
     "metadata": {},
     "output_type": "execute_result"
    }
   ],
   "source": [
    "vol.resolution"
   ]
  },
  {
   "cell_type": "code",
   "execution_count": null,
   "metadata": {},
   "outputs": [],
   "source": []
  }
 ],
 "metadata": {
  "kernelspec": {
   "display_name": "Python 3.9.5 64-bit ('env_cloudreg': venv)",
   "language": "python",
   "name": "python3"
  },
  "language_info": {
   "codemirror_mode": {
    "name": "ipython",
    "version": 3
   },
   "file_extension": ".py",
   "mimetype": "text/x-python",
   "name": "python",
   "nbconvert_exporter": "python",
   "pygments_lexer": "ipython3",
   "version": "3.9.5"
  },
  "orig_nbformat": 4,
  "vscode": {
   "interpreter": {
    "hash": "d5f6b1209d20eabd957fc0b41e64f1d49033b658a345bcc3825667891c28dd16"
   }
  }
 },
 "nbformat": 4,
 "nbformat_minor": 2
}
