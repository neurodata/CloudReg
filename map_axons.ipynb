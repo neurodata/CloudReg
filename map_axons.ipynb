{
 "cells": [
  {
   "cell_type": "code",
   "execution_count": 1,
   "metadata": {},
   "outputs": [],
   "source": [
    "from cloudvolume import CloudVolume\n",
    "import numpy as np"
   ]
  },
  {
   "cell_type": "code",
   "execution_count": 2,
   "metadata": {},
   "outputs": [],
   "source": [
    "vol_im = CloudVolume(\"file:///cis/home/tathey/projects/mouselight/axon_mapping/low_res/2018-12-01/precomputed/ch1_iso\")\n",
    "vol_axons = CloudVolume(\"file:///cis/home/tathey/projects/mouselight/axon_mapping/low_res/2018-12-01/precomputed/axons\")"
   ]
  },
  {
   "cell_type": "code",
   "execution_count": null,
   "metadata": {},
   "outputs": [],
   "source": [
    "from cloudvolume.exceptions import SkeletonDecodeError\n",
    "for i in range(66):\n",
    "    try:\n",
    "        verts = vol_axons.skeleton.get(i).vertices\n",
    "    except SkeletonDecodeError:\n",
    "        continue\n",
    "    points = np.array(np.divide(verts, vol_axons.resolution))\n",
    "    points = [list(c) for c in points]\n",
    "\n",
    "    print(f\"ID: {i} w/{len(points)} points\")\n",
    "    if len(points) <= 10000:\n",
    "        with open(\"/cis/home/tathey/projects/mouselight/axon_mapping/low_res/2018-12-01/points/map_axons/target_space/\" + str(i) + \".txt\", \"w\") as f:\n",
    "            for point in points:\n",
    "                f.write(f\"({point[0]},{point[1]},{point[2]})\")\n",
    "                f.write(\"\\n\")"
   ]
  },
  {
   "cell_type": "code",
   "execution_count": null,
   "metadata": {},
   "outputs": [],
   "source": [
    "from cloudreg.scripts.transform_points import NGLink\n",
    "from cloudreg.scripts.visualization import create_viz_link_from_json\n",
    "\n",
    "viz_link_init = \"https://viz.neurodata.io/?json_url=https://json.neurodata.io/v1?NGStateID=7m7rEoVJdsNt1Q\"\n",
    "\n",
    "viz = NGLink(viz_link_init.split(\"json_url=\")[-1])\n",
    "ngl_json = viz._json\n",
    "ngl_json['layers'].append(\n",
    "    {\n",
    "        \"type\": \"annotation\",\n",
    "        \"annotations\": points,\n",
    "        \"name\" : \"test_points\"\n",
    "    }\n",
    ")\n",
    "viz_link = create_viz_link_from_json(ngl_json)\n",
    "print(viz_link)"
   ]
  },
  {
   "cell_type": "markdown",
   "metadata": {},
   "source": [
    "python -m cloudreg.scripts.transform_points --target_viz_link https://viz.neurodata.io/?json_url=https://json.neurodata.io/v1?NGStateID=x4nz2KzMfzinTQ --atlas_viz_link https://ara.viz.neurodata.io/?json_url=https://json.neurodata.io/v1?NGStateID=HvyNDGaPsd1wyg --affine_path /cis/home/tathey/projects/mouselight/axon_mapping/low_res/2018-12-01/precomputed_ch1_otsu_iso_registration/downloop_1_A.mat --velocity_path /cis/home/tathey/projects/mouselight/axon_mapping/low_res/2018-12-01/precomputed_ch1_otsu_iso_registration/downloop_1_v.mat --soma_path /cis/home/tathey/projects/mouselight/axon_mapping/low_res/2018-12-01/path_coords.txt"
   ]
  },
  {
   "cell_type": "markdown",
   "metadata": {},
   "source": [
    "### Write new skeleton layer"
   ]
  },
  {
   "cell_type": "markdown",
   "metadata": {},
   "source": [
    "Copy and paste info files "
   ]
  },
  {
   "cell_type": "code",
   "execution_count": 12,
   "metadata": {},
   "outputs": [
    {
     "data": {
      "text/plain": [
       "Vec(128,128,128, dtype=int64)"
      ]
     },
     "execution_count": 12,
     "metadata": {},
     "output_type": "execute_result"
    }
   ],
   "source": [
    "vol_axons_atlas = CloudVolume(\"file:///cis/home/tathey/projects/mouselight/axon_mapping/low_res/2018-12-01/precomputed/axons_atlas\", compress=False)\n",
    "vol_axons_atlas.chunk_size"
   ]
  },
  {
   "cell_type": "markdown",
   "metadata": {},
   "source": [
    "### Read transformed points"
   ]
  },
  {
   "cell_type": "code",
   "execution_count": 22,
   "metadata": {},
   "outputs": [
    {
     "name": "stdout",
     "output_type": "stream",
     "text": [
      "Length of og skel: 2626 <class 'numpy.ndarray'> float32\n",
      "Length of transformed points: 2626\n",
      "<class 'numpy.ndarray'>\n",
      "float32\n",
      "Length of og skel: 2309 <class 'numpy.ndarray'> float32\n",
      "Length of transformed points: 2309\n",
      "<class 'numpy.ndarray'>\n",
      "float32\n",
      "Length of og skel: 5938 <class 'numpy.ndarray'> float32\n",
      "Length of transformed points: 5938\n",
      "<class 'numpy.ndarray'>\n",
      "float32\n",
      "Length of og skel: 2235 <class 'numpy.ndarray'> float32\n",
      "Length of transformed points: 2235\n",
      "<class 'numpy.ndarray'>\n",
      "float32\n",
      "Length of og skel: 536 <class 'numpy.ndarray'> float32\n",
      "Length of transformed points: 536\n",
      "<class 'numpy.ndarray'>\n",
      "float32\n",
      "Length of og skel: 488 <class 'numpy.ndarray'> float32\n",
      "Length of transformed points: 488\n",
      "<class 'numpy.ndarray'>\n",
      "float32\n",
      "Length of og skel: 688 <class 'numpy.ndarray'> float32\n",
      "Length of transformed points: 688\n",
      "<class 'numpy.ndarray'>\n",
      "float32\n",
      "Length of og skel: 1399 <class 'numpy.ndarray'> float32\n",
      "Length of transformed points: 1399\n",
      "<class 'numpy.ndarray'>\n",
      "float32\n",
      "Length of og skel: 5170 <class 'numpy.ndarray'> float32\n",
      "Length of transformed points: 5170\n",
      "<class 'numpy.ndarray'>\n",
      "float32\n",
      "Length of og skel: 1712 <class 'numpy.ndarray'> float32\n",
      "Length of transformed points: 1712\n",
      "<class 'numpy.ndarray'>\n",
      "float32\n",
      "Length of og skel: 5911 <class 'numpy.ndarray'> float32\n",
      "Length of transformed points: 5911\n",
      "<class 'numpy.ndarray'>\n",
      "float32\n",
      "Length of og skel: 2049 <class 'numpy.ndarray'> float32\n",
      "Length of transformed points: 2049\n",
      "<class 'numpy.ndarray'>\n",
      "float32\n",
      "Length of og skel: 2297 <class 'numpy.ndarray'> float32\n",
      "Length of transformed points: 2297\n",
      "<class 'numpy.ndarray'>\n",
      "float32\n"
     ]
    }
   ],
   "source": [
    "\n",
    "from os import listdir\n",
    "from os.path import isfile, join\n",
    "import json\n",
    "\n",
    "dir = '/cis/home/tathey/projects/mouselight/axon_mapping/low_res/2018-12-01/points/map_axons/atlas_space'\n",
    "names = [f for f in listdir(dir) if isfile(join(dir, f))]\n",
    "nums = [int(n.split('points')[-1][:-5]) for n in names]\n",
    "files = [join(dir,f) for f in names]\n",
    "\n",
    "for num,file in zip(nums, files):\n",
    "    skel_targ = vol_axons.skeleton.get(num)\n",
    "    skel_atlas = vol_axons_atlas.skeleton.get(num)\n",
    "    print(f\"Length of og skel: {len(skel_targ.vertices)} {type(skel_targ.vertices)} {skel_targ.vertices.dtype}\")\n",
    "    with open(file) as f:\n",
    "        json_file = json.load(f)\n",
    "        print(f\"Length of transformed points: {len(json_file)}\")\n",
    "        coords = []\n",
    "        for point in json_file:\n",
    "            new_coord = np.multiply(point['point'], vol_axons_atlas.resolution)\n",
    "            coords.append(new_coord)\n",
    "        \n",
    "        coords = np.array(coords, dtype='float32')\n",
    "        print(type(coords))\n",
    "        print(coords.dtype)\n",
    "        skel_atlas.vertices = np.array(coords)\n",
    "        #vol_axons_atlas.skeleton.upload(skel_atlas)\n",
    "        vol_axons_atlas.skeleton.upload_raw(num, skel_atlas.vertices, skel_atlas.edges, skel_atlas.radii, skel_atlas.vertex_types)\n",
    "        \n",
    "    "
   ]
  },
  {
   "cell_type": "code",
   "execution_count": 23,
   "metadata": {},
   "outputs": [
    {
     "name": "stdout",
     "output_type": "stream",
     "text": [
      "Skeleton(segid=1, vertices=(shape=2626, float32), edges=(shape=2625, uint32), radius=(2626, float32), vertex_types=(2626, uint8), space='physical' transform=[[1.0, 0.0, 0.0, 0.0], [0.0, 1.0, 0.0, 0.0], [0.0, 0.0, 1.0, 0.0]])\n",
      "<class 'numpy.ndarray'>\n",
      "float32\n",
      "[[738.6179   417.2736   391.523575]\n",
      " [738.6256   417.139225 391.283475]\n",
      " [741.68365  417.369675 389.83915 ]\n",
      " ...\n",
      " [743.9647   399.8301   412.92095 ]\n",
      " [743.1246   400.015425 413.931775]\n",
      " [748.3416   398.951125 404.07065 ]]\n"
     ]
    }
   ],
   "source": [
    "skel = vol_axons_atlas.skeleton.get(1)\n",
    "print(skel)\n",
    "print(type(skel.vertices))\n",
    "print(skel.vertices.dtype)\n",
    "print(np.divide(skel.vertices, vol_axons_atlas.resolution))"
   ]
  },
  {
   "cell_type": "code",
   "execution_count": 11,
   "metadata": {},
   "outputs": [
    {
     "name": "stdout",
     "output_type": "stream",
     "text": [
      "Skeleton(segid=1, vertices=(shape=2626, float32), edges=(shape=2625, uint32), radius=(2626, float32), vertex_types=(2626, uint8), space='physical' transform=[[1.0, 0.0, 0.0, 0.0], [0.0, 1.0, 0.0, 0.0], [0.0, 0.0, 1.0, 0.0]])\n",
      "<class 'numpy.ndarray'>\n",
      "float32\n",
      "[[195.7661849  200.37846354  89.96969531]\n",
      " [195.64919271 200.32597656  89.96969531]\n",
      " [194.9371224  200.38518229  90.43039063]\n",
      " ...\n",
      " [205.75113281 192.69251302  90.74221875]\n",
      " [206.24449219 192.77044271  90.61816406]\n",
      " [201.46299479 192.37635417  91.38089063]]\n"
     ]
    }
   ],
   "source": [
    "skel = vol_axons.skeleton.get(1)\n",
    "print(skel)\n",
    "print(type(skel.vertices))\n",
    "print(skel.vertices.dtype)\n",
    "print(np.divide(skel.vertices, vol_axons.resolution))"
   ]
  },
  {
   "cell_type": "code",
   "execution_count": null,
   "metadata": {},
   "outputs": [],
   "source": [
    "np.divide(vol_axons.skeleton.get(1).vertices, [10000,10000,10000])"
   ]
  },
  {
   "cell_type": "code",
   "execution_count": null,
   "metadata": {},
   "outputs": [],
   "source": [
    "np.divide(vol_axons.skeleton.get(1).vertices, vol_axons.resolution)"
   ]
  },
  {
   "cell_type": "code",
   "execution_count": null,
   "metadata": {},
   "outputs": [],
   "source": []
  }
 ],
 "metadata": {
  "interpreter": {
   "hash": "df0893f56f349688326838aaeea0de204df53a132722cbd565e54b24a8fec5f6"
  },
  "kernelspec": {
   "display_name": "vevn_38-kernel",
   "language": "python",
   "name": "vevn_38-kernel"
  },
  "language_info": {
   "codemirror_mode": {
    "name": "ipython",
    "version": 3
   },
   "file_extension": ".py",
   "mimetype": "text/x-python",
   "name": "python",
   "nbconvert_exporter": "python",
   "pygments_lexer": "ipython3",
   "version": "3.8.0"
  },
  "orig_nbformat": 4
 },
 "nbformat": 4,
 "nbformat_minor": 2
}
