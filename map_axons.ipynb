{
 "cells": [
  {
   "cell_type": "code",
   "execution_count": 1,
   "metadata": {},
   "outputs": [],
   "source": [
    "from cloudvolume import CloudVolume\n",
    "import numpy as np"
   ]
  },
  {
   "cell_type": "code",
   "execution_count": 2,
   "metadata": {},
   "outputs": [],
   "source": [
    "vol_im = CloudVolume(\"file:///cis/home/tathey/projects/mouselight/axon_mapping/low_res/2018-12-01/precomputed/ch1_iso\")\n",
    "vol_axons = CloudVolume(\"file:///cis/home/tathey/projects/mouselight/axon_mapping/low_res/2018-12-01/precomputed/axons\")"
   ]
  },
  {
   "cell_type": "code",
   "execution_count": 9,
   "metadata": {},
   "outputs": [
    {
     "name": "stdout",
     "output_type": "stream",
     "text": [
      "ID: 1 w/2626 points\n",
      "ID: 4 w/2309 points\n",
      "ID: 11 w/5938 points\n",
      "ID: 12 w/16319 points\n",
      "ID: 13 w/2235 points\n",
      "ID: 14 w/536 points\n",
      "ID: 20 w/26117 points\n",
      "ID: 35 w/35547 points\n",
      "ID: 40 w/488 points\n",
      "ID: 45 w/688 points\n",
      "ID: 48 w/15884 points\n",
      "ID: 49 w/1399 points\n",
      "ID: 51 w/5170 points\n",
      "ID: 53 w/1712 points\n",
      "ID: 59 w/5911 points\n",
      "ID: 60 w/2049 points\n",
      "ID: 65 w/2297 points\n"
     ]
    }
   ],
   "source": [
    "from cloudvolume.exceptions import SkeletonDecodeError\n",
    "for i in range(66):\n",
    "    try:\n",
    "        verts = vol_axons.skeleton.get(i).vertices\n",
    "    except SkeletonDecodeError:\n",
    "        continue\n",
    "    points = np.array(np.divide(verts, vol_axons.resolution))\n",
    "    points = [list(c) for c in points]\n",
    "\n",
    "    print(f\"ID: {i} w/{len(points)} points\")\n",
    "\n",
    "    with open(\"/cis/home/tathey/projects/mouselight/axon_mapping/low_res/2018-12-01/points/map_axons/target_space/\" + str(i) + \".txt\", \"w\") as f:\n",
    "        for point in points:\n",
    "            f.write(f\"({point[0]},{point[1]},{point[2]})\")\n",
    "            f.write(\"\\n\")"
   ]
  },
  {
   "cell_type": "code",
   "execution_count": null,
   "metadata": {},
   "outputs": [],
   "source": [
    "from cloudreg.scripts.transform_points import NGLink\n",
    "from cloudreg.scripts.visualization import create_viz_link_from_json\n",
    "\n",
    "viz_link_init = \"https://viz.neurodata.io/?json_url=https://json.neurodata.io/v1?NGStateID=7m7rEoVJdsNt1Q\"\n",
    "\n",
    "viz = NGLink(viz_link_init.split(\"json_url=\")[-1])\n",
    "ngl_json = viz._json\n",
    "ngl_json['layers'].append(\n",
    "    {\n",
    "        \"type\": \"annotation\",\n",
    "        \"annotations\": points,\n",
    "        \"name\" : \"test_points\"\n",
    "    }\n",
    ")\n",
    "viz_link = create_viz_link_from_json(ngl_json)\n",
    "print(viz_link)"
   ]
  },
  {
   "cell_type": "markdown",
   "metadata": {},
   "source": [
    "python -m cloudreg.scripts.transform_points --target_viz_link https://viz.neurodata.io/?json_url=https://json.neurodata.io/v1?NGStateID=x4nz2KzMfzinTQ --atlas_viz_link https://ara.viz.neurodata.io/?json_url=https://json.neurodata.io/v1?NGStateID=HvyNDGaPsd1wyg --affine_path /cis/home/tathey/projects/mouselight/axon_mapping/low_res/2018-12-01/precomputed_ch1_otsu_iso_registration/downloop_1_A.mat --velocity_path /cis/home/tathey/projects/mouselight/axon_mapping/low_res/2018-12-01/precomputed_ch1_otsu_iso_registration/downloop_1_v.mat --soma_path /cis/home/tathey/projects/mouselight/axon_mapping/low_res/2018-12-01/path_coords.txt"
   ]
  },
  {
   "cell_type": "markdown",
   "metadata": {},
   "source": [
    "### Write new skeleton layer"
   ]
  },
  {
   "cell_type": "code",
   "execution_count": null,
   "metadata": {},
   "outputs": [],
   "source": []
  },
  {
   "cell_type": "markdown",
   "metadata": {},
   "source": [
    "### Read transformed points"
   ]
  },
  {
   "cell_type": "code",
   "execution_count": 20,
   "metadata": {},
   "outputs": [
    {
     "name": "stdout",
     "output_type": "stream",
     "text": [
      "[Skeleton(segid=1, vertices=(shape=2626, float32), edges=(shape=2625, uint32), radius=(2626, float32), vertex_types=(2626, uint8), space='physical' transform=[[1.0, 0.0, 0.0, 0.0], [0.0, 1.0, 0.0, 0.0], [0.0, 0.0, 1.0, 0.0]])]\n",
      "2626\n"
     ]
    }
   ],
   "source": [
    "\n",
    "from os import listdir\n",
    "from os.path import isfile, join\n",
    "import json\n",
    "\n",
    "dir = '/cis/home/tathey/projects/mouselight/axon_mapping/low_res/2018-12-01/points/map_axons/atlas_space'\n",
    "names = [f for f in listdir(dir) if isfile(join(dir, f))]\n",
    "nums = [n.split('points')[-1][:-5] for n in names]\n",
    "files = [join(dir,f) for f in names]\n",
    "\n",
    "for num,file in zip(nums, files):\n",
    "    skel_targ = vol_axons.skeleton.get(num)\n",
    "    \n",
    "    print(skel_targ)\n",
    "    with open(file) as f:\n",
    "        json_file = json.load(f)\n",
    "        print(len(json_file))\n",
    "    break\n"
   ]
  },
  {
   "cell_type": "code",
   "execution_count": null,
   "metadata": {},
   "outputs": [],
   "source": []
  }
 ],
 "metadata": {
  "interpreter": {
   "hash": "df0893f56f349688326838aaeea0de204df53a132722cbd565e54b24a8fec5f6"
  },
  "kernelspec": {
   "display_name": "vevn_38-kernel",
   "language": "python",
   "name": "vevn_38-kernel"
  },
  "language_info": {
   "codemirror_mode": {
    "name": "ipython",
    "version": 3
   },
   "file_extension": ".py",
   "mimetype": "text/x-python",
   "name": "python",
   "nbconvert_exporter": "python",
   "pygments_lexer": "ipython3",
   "version": "3.8.0"
  },
  "orig_nbformat": 4
 },
 "nbformat": 4,
 "nbformat_minor": 2
}
