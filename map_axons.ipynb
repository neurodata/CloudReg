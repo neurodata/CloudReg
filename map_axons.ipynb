{
 "cells": [
  {
   "cell_type": "code",
   "execution_count": null,
   "metadata": {},
   "outputs": [],
   "source": [
    "from cloudvolume import CloudVolume\n",
    "import numpy as np"
   ]
  },
  {
   "cell_type": "code",
   "execution_count": null,
   "metadata": {},
   "outputs": [],
   "source": [
    "vol_im = CloudVolume(\"file:///cis/home/tathey/projects/mouselight/axon_mapping/low_res/2018-12-01/precomputed/ch1_iso\")\n",
    "vol_axons = CloudVolume(\"file:///cis/home/tathey/projects/mouselight/axon_mapping/low_res/2018-12-01/precomputed/axons\")"
   ]
  },
  {
   "cell_type": "code",
   "execution_count": 30,
   "metadata": {},
   "outputs": [
    {
     "name": "stdout",
     "output_type": "stream",
     "text": [
      "len 2626 length \n"
     ]
    }
   ],
   "source": [
    "points = np.array(np.divide(vol_axons.skeleton.get(1).vertices, vol_axons.resolution))\n",
    "points = [list(c) for c in points]\n",
    "print(f\"len {len(points)} length \")\n",
    "\n",
    "with open(\"/cis/home/tathey/projects/mouselight/axon_mapping/low_res/2018-12-01/points.txt\", \"w\") as f:\n",
    "    for point in points:\n",
    "        f.write(f\"({point[0]}, {point[1]}, {point[2]})\")\n",
    "        f.write(\"\\n\")"
   ]
  },
  {
   "cell_type": "code",
   "execution_count": null,
   "metadata": {},
   "outputs": [],
   "source": [
    "from cloudreg.scripts.transform_points import NGLink\n",
    "from cloudreg.scripts.visualization import create_viz_link_from_json\n",
    "\n",
    "viz_link_init = \"https://viz.neurodata.io/?json_url=https://json.neurodata.io/v1?NGStateID=7m7rEoVJdsNt1Q\"\n",
    "\n",
    "viz = NGLink(viz_link_init.split(\"json_url=\")[-1])\n",
    "ngl_json = viz._json\n",
    "ngl_json['layers'].append(\n",
    "    {\n",
    "        \"type\": \"annotation\",\n",
    "        \"annotations\": points,\n",
    "        \"name\" : \"test_points\"\n",
    "    }\n",
    ")\n",
    "viz_link = create_viz_link_from_json(ngl_json)\n",
    "print(viz_link)"
   ]
  },
  {
   "cell_type": "markdown",
   "metadata": {},
   "source": [
    "python -m cloudreg.scripts.transform_points --target_viz_link https://viz.neurodata.io/?json_url=https://json.neurodata.io/v1?NGStateID=JOoyq2pfCjwvMw --atlas_viz_link https://ara.viz.neurodata.io/?json_url=https://json.neurodata.io/v1?NGStateID=HvyNDGaPsd1wyg --affine_path /cis/home/tathey/projects/mouselight/axon_mapping/low_res/2018-12-01/precomputed_ch1_otsu_iso_registration/downloop_1_A.mat --velocity_path /cis/home/tathey/projects/mouselight/axon_mapping/low_res/2018-12-01/precomputed_ch1_otsu_iso_registration/downloop_1_v.mat --soma_path /cis/home/tathey/projects/mouselight/axon_mapping/low_res/2018-12-01/points.txt"
   ]
  },
  {
   "cell_type": "code",
   "execution_count": null,
   "metadata": {},
   "outputs": [],
   "source": []
  }
 ],
 "metadata": {
  "interpreter": {
   "hash": "df0893f56f349688326838aaeea0de204df53a132722cbd565e54b24a8fec5f6"
  },
  "kernelspec": {
   "display_name": "vevn_38-kernel",
   "language": "python",
   "name": "vevn_38-kernel"
  },
  "language_info": {
   "codemirror_mode": {
    "name": "ipython",
    "version": 3
   },
   "file_extension": ".py",
   "mimetype": "text/x-python",
   "name": "python",
   "nbconvert_exporter": "python",
   "pygments_lexer": "ipython3",
   "version": "3.8.0"
  },
  "orig_nbformat": 4
 },
 "nbformat": 4,
 "nbformat_minor": 2
}
